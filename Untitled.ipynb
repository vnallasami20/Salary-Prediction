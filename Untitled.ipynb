{
 "cells": [
  {
   "cell_type": "code",
   "execution_count": 2,
   "metadata": {},
   "outputs": [],
   "source": [
    "#import your libraries\n",
    "import numpy as np\n",
    "import pandas as pd\n",
    "from sklearn import metrics\n",
    "import string\n",
    "\n",
    "import matplotlib.pylab as pylab\n",
    "params = {'legend.fontsize': 'x-large',\n",
    "          'figure.figsize': (15, 5),\n",
    "         'axes.labelsize': 'large',\n",
    "         'axes.titlesize':'large',\n",
    "         'axes.labelcolor':'#5F4C0B',\n",
    "         'axes.titlecolor':'#B40404',\n",
    "         'xtick.labelsize':'large',\n",
    "         'ytick.labelsize':'large',\n",
    "         'xtick.color':'red', \n",
    "         'ytick.color':'green'}\n",
    "pylab.rcParams.update(params)\n",
    "\n",
    "pd.set_option('display.max_columns',500)\n",
    "pd.set_option('display.max_rows',500)\n",
    "np.set_printoptions(linewidth=100)\n",
    "\n",
    "from scipy import stats\n",
    "import os\n",
    "import sys\n",
    "import pathlib\n",
    "\n",
    "from sklearn.linear_model import LinearRegression\n",
    "from sklearn.ensemble import RandomForestRegressor,GradientBoostingRegressor\n",
    "from xgboost import XGBRegressor\n",
    "from sklearn.tree import DecisionTreeRegressor\n",
    "from sklearn.model_selection import GridSearchCV,cross_val_score,KFold\n",
    "from sklearn.preprocessing import StandardScaler\n",
    "\n",
    "from matplotlib import pyplot as plt\n",
    "import seaborn as sns\n",
    "\n",
    "\n",
    "#your info here\n",
    "__author__ = \"Vijayan Nallasami\"\n",
    "__email__ = \"VNallasami@gmail.com\""
   ]
  },
  {
   "cell_type": "code",
   "execution_count": 3,
   "metadata": {},
   "outputs": [],
   "source": [
    "class fileload_:\n",
    "    \n",
    "    def __init__(self,path,files,target,Id):\n",
    "        \n",
    "        self.file_path = path\n",
    "        self.file_dict = files\n",
    "        self.target_column = target\n",
    "        self.merge_Id = Id\n",
    "        self.load_data()\n",
    "        self.merge_df()\n",
    "        self.find_feature_type()\n",
    "        \n",
    "    def load_data(self):\n",
    "        \n",
    "        for name, file in self.file_dict.items():\n",
    "            \n",
    "            if name == 'train_feature':\n",
    "                self.train_features = pd.read_csv(path+file)\n",
    "            if name == 'train_target':\n",
    "                self.train_target = pd.read_csv(path+file)\n",
    "            if name == 'test':\n",
    "                self.test_features = pd.read_csv(path+file)\n",
    "                \n",
    "    def merge_df(self):\n",
    "        \n",
    "        self.train = pd.merge(self.train_features,self.train_target,on=self.merge_Id)\n",
    "        self.train.drop(labels=self.merge_Id,axis=1,inplace=True)\n",
    "        \n",
    "    def find_feature_type(self):\n",
    "        \n",
    "        self.numerical_features = self.train.select_dtypes(exclude='object').columns\n",
    "        self.categorical_features = self.train.select_dtypes('object').columns            "
   ]
  },
  {
   "cell_type": "code",
   "execution_count": 4,
   "metadata": {},
   "outputs": [],
   "source": [
    "class datacleaning_:\n",
    "    \n",
    "    def __init__(self,dataframe):\n",
    "        self.train_df = dataframe.train\n",
    "        self.target_column = dataframe.target_column\n",
    "        self.remove_dupes()\n",
    "        self.remove_invalid_target()\n",
    "        dataframe.train = self.train_df        \n",
    "    \n",
    "    def remove_dupes(self):\n",
    "        \n",
    "        print(\"Duplicate rows : \",len(self.train_df[self.train_df.duplicated(keep='first')]))\n",
    "        self.train_df.drop_duplicates(keep='first', inplace=True)\n",
    "        \n",
    "    def remove_invalid_target(self):\n",
    "        \n",
    "        dupes = self.train_df[self.train_df[self.target_column] < 1].index\n",
    "        self.train_df.drop(dupes,inplace=True)       \n",
    "        print(\"No.of rows with invalid target\",len(dupes))\n",
    "        "
   ]
  },
  {
   "cell_type": "code",
   "execution_count": 5,
   "metadata": {},
   "outputs": [],
   "source": [
    "def cat_ordered_mean_encoding(X,y,target):\n",
    "    \n",
    "    X_feature = X.copy()\n",
    "    y_target = y.copy()\n",
    "    \n",
    "    df = pd.concat([X_feature.copy(),y_target.copy()],axis=1)\n",
    "    \n",
    "    categorical = X.select_dtypes('O').columns\n",
    "    \n",
    "    for col in categorical:\n",
    "        \n",
    "        col_mean = df.groupby([col])[target].mean().sort_values(ascending=True).index\n",
    "        col_dict = {val: key for key, val in enumerate(col_mean,1)}\n",
    "        \n",
    "        df[col + '_enc'] = df[col].map(col_dict)\n",
    "        \n",
    "    return df.drop(labels=target,axis=1)"
   ]
  },
  {
   "cell_type": "code",
   "execution_count": 6,
   "metadata": {},
   "outputs": [],
   "source": [
    "def cat_combined_mean_encoding(X,y,target,var_dict):\n",
    "    \n",
    "    X_feature = X.copy()\n",
    "    y_target = y.copy()\n",
    "    \n",
    "    df = pd.concat([X_feature.copy(),y_target.copy()],axis=1)\n",
    "        \n",
    "    for key in var_dict:\n",
    "        \n",
    "        df[key] = df[var_dict[key][0]] + ' ' + df[var_dict[key][1]]\n",
    "        \n",
    "        col_mean = df.groupby(key)[target].mean().sort_values(ascending=True).index\n",
    "        col_dict = {val: key for key, val in enumerate(col_mean,1)}\n",
    "\n",
    "        df[key] = df[key].map(col_dict)\n",
    "        \n",
    "    return df.drop(labels=target,axis=1)"
   ]
  },
  {
   "cell_type": "code",
   "execution_count": 23,
   "metadata": {},
   "outputs": [],
   "source": [
    "def diagnostic_plots(df, variable):\n",
    "    # function takes a dataframe (df) and\n",
    "    # the variable of interest as arguments\n",
    "\n",
    "    # define figure size\n",
    "    plt.figure(figsize=(16, 4))\n",
    "\n",
    "    # histogram\n",
    "    plt.subplot(1, 3, 1)\n",
    "    sns.distplot(df[variable], bins=30)\n",
    "    plt.title('Histogram')\n",
    "\n",
    "    # Q-Q plot\n",
    "    plt.subplot(1, 3, 2)\n",
    "    stats.probplot(df[variable], dist=\"norm\", plot=plt)\n",
    "    plt.ylabel('Variable quantiles')\n",
    "\n",
    "    # boxplot\n",
    "    plt.subplot(1, 3, 3)\n",
    "    sns.boxplot(y=df[variable])\n",
    "    plt.title('Boxplot')\n",
    "\n",
    "    plt.show()"
   ]
  },
  {
   "cell_type": "code",
   "execution_count": 7,
   "metadata": {},
   "outputs": [],
   "source": [
    "def remove_duplicate_feature(df):\n",
    "    dup_list = set()\n",
    "    for i in range(0,len(df.columns)):\n",
    "        col1 = df.columns[i]\n",
    "        for col2 in df.columns[i+1:]:\n",
    "            if df[col1].equals(df[col2]):\n",
    "#                 print(col1,col2)\n",
    "                dup_list.add(col2)\n",
    "                \n",
    "    df.drop(labels=dup_list,axis=1,inplace=True)\n",
    "    return df,dup_list"
   ]
  },
  {
   "cell_type": "code",
   "execution_count": 8,
   "metadata": {},
   "outputs": [],
   "source": [
    "def correlation(dataset, threshold):\n",
    "    col_corr = set()  # Set of all the names of correlated columns\n",
    "    corr_matrix = dataset.corr()\n",
    "    for i in range(len(corr_matrix.columns)):\n",
    "        for j in range(i):\n",
    "            if abs(corr_matrix.iloc[i, j]) > threshold: # we are interested in absolute coeff value\n",
    "                colname = corr_matrix.columns[i]  # getting the name of column\n",
    "                col_corr.add(colname)\n",
    "    return col_corr"
   ]
  },
  {
   "cell_type": "code",
   "execution_count": 9,
   "metadata": {},
   "outputs": [
    {
     "name": "stdout",
     "output_type": "stream",
     "text": [
      "Duplicate rows :  186\n",
      "No.of rows with invalid target 5\n"
     ]
    },
    {
     "data": {
      "text/plain": [
       "(999809, 8)"
      ]
     },
     "execution_count": 9,
     "metadata": {},
     "output_type": "execute_result"
    }
   ],
   "source": [
    "path = 'data/'\n",
    "filenames = {'train_feature':'train_features.csv','train_target':'train_salaries.csv','test':'test_features.csv'}\n",
    "target = 'salary'\n",
    "Id = 'jobId'\n",
    "\n",
    "dataframe = fileload_(path,filenames,target,Id)\n",
    "data_clean = datacleaning_(dataframe)\n",
    "dataframe.train.shape"
   ]
  },
  {
   "cell_type": "code",
   "execution_count": 12,
   "metadata": {},
   "outputs": [],
   "source": [
    "X_train = dataframe.train.drop('salary',axis=1)\n",
    "y_train = dataframe.train.salary"
   ]
  },
  {
   "cell_type": "code",
   "execution_count": 13,
   "metadata": {},
   "outputs": [],
   "source": [
    "degree_major = {'degree_major_enc':['degree','major'],'company_industry':['companyId','industry'],'jobTypeIndustry':['jobType','industry']}\n",
    "X_train = cat_combined_mean_encoding(X_train,y_train,'salary',degree_major)"
   ]
  },
  {
   "cell_type": "code",
   "execution_count": 16,
   "metadata": {},
   "outputs": [],
   "source": [
    "X_train = X_train.drop(['companyId','jobType','degree','major','industry'],axis=1)"
   ]
  },
  {
   "cell_type": "code",
   "execution_count": 17,
   "metadata": {},
   "outputs": [],
   "source": [
    "X_train = cat_ordered_mean_encoding(X_train,y_train,'salary')"
   ]
  },
  {
   "cell_type": "code",
   "execution_count": 20,
   "metadata": {},
   "outputs": [
    {
     "data": {
      "text/plain": [
       "((999809, 10), (999809,))"
      ]
     },
     "execution_count": 20,
     "metadata": {},
     "output_type": "execute_result"
    }
   ],
   "source": [
    "X_train.shape,y_train.shape"
   ]
  },
  {
   "cell_type": "code",
   "execution_count": 34,
   "metadata": {
    "scrolled": true
   },
   "outputs": [
    {
     "data": {
      "text/html": [
       "<div>\n",
       "<style scoped>\n",
       "    .dataframe tbody tr th:only-of-type {\n",
       "        vertical-align: middle;\n",
       "    }\n",
       "\n",
       "    .dataframe tbody tr th {\n",
       "        vertical-align: top;\n",
       "    }\n",
       "\n",
       "    .dataframe thead th {\n",
       "        text-align: right;\n",
       "    }\n",
       "</style>\n",
       "<table border=\"1\" class=\"dataframe\">\n",
       "  <thead>\n",
       "    <tr style=\"text-align: right;\">\n",
       "      <th></th>\n",
       "      <th>yearsExperience</th>\n",
       "      <th>milesFromMetropolis</th>\n",
       "      <th>degree_major_enc</th>\n",
       "      <th>company_industry</th>\n",
       "      <th>jobTypeIndustry</th>\n",
       "      <th>companyId_enc</th>\n",
       "      <th>jobType_enc</th>\n",
       "      <th>degree_enc</th>\n",
       "      <th>major_enc</th>\n",
       "      <th>industry_enc</th>\n",
       "    </tr>\n",
       "  </thead>\n",
       "  <tbody>\n",
       "    <tr>\n",
       "      <th>0</th>\n",
       "      <td>10</td>\n",
       "      <td>83</td>\n",
       "      <td>20</td>\n",
       "      <td>201</td>\n",
       "      <td>42</td>\n",
       "      <td>1</td>\n",
       "      <td>6</td>\n",
       "      <td>4</td>\n",
       "      <td>7</td>\n",
       "      <td>4</td>\n",
       "    </tr>\n",
       "    <tr>\n",
       "      <th>1</th>\n",
       "      <td>3</td>\n",
       "      <td>73</td>\n",
       "      <td>2</td>\n",
       "      <td>303</td>\n",
       "      <td>54</td>\n",
       "      <td>11</td>\n",
       "      <td>8</td>\n",
       "      <td>2</td>\n",
       "      <td>1</td>\n",
       "      <td>5</td>\n",
       "    </tr>\n",
       "    <tr>\n",
       "      <th>2</th>\n",
       "      <td>10</td>\n",
       "      <td>38</td>\n",
       "      <td>23</td>\n",
       "      <td>209</td>\n",
       "      <td>34</td>\n",
       "      <td>43</td>\n",
       "      <td>5</td>\n",
       "      <td>5</td>\n",
       "      <td>5</td>\n",
       "      <td>4</td>\n",
       "    </tr>\n",
       "    <tr>\n",
       "      <th>3</th>\n",
       "      <td>8</td>\n",
       "      <td>17</td>\n",
       "      <td>22</td>\n",
       "      <td>163</td>\n",
       "      <td>20</td>\n",
       "      <td>40</td>\n",
       "      <td>4</td>\n",
       "      <td>5</td>\n",
       "      <td>4</td>\n",
       "      <td>3</td>\n",
       "    </tr>\n",
       "    <tr>\n",
       "      <th>4</th>\n",
       "      <td>8</td>\n",
       "      <td>16</td>\n",
       "      <td>9</td>\n",
       "      <td>389</td>\n",
       "      <td>45</td>\n",
       "      <td>18</td>\n",
       "      <td>5</td>\n",
       "      <td>3</td>\n",
       "      <td>5</td>\n",
       "      <td>6</td>\n",
       "    </tr>\n",
       "  </tbody>\n",
       "</table>\n",
       "</div>"
      ],
      "text/plain": [
       "   yearsExperience  milesFromMetropolis  degree_major_enc  company_industry  \\\n",
       "0               10                   83                20               201   \n",
       "1                3                   73                 2               303   \n",
       "2               10                   38                23               209   \n",
       "3                8                   17                22               163   \n",
       "4                8                   16                 9               389   \n",
       "\n",
       "   jobTypeIndustry  companyId_enc  jobType_enc  degree_enc  major_enc  \\\n",
       "0               42              1            6           4          7   \n",
       "1               54             11            8           2          1   \n",
       "2               34             43            5           5          5   \n",
       "3               20             40            4           5          4   \n",
       "4               45             18            5           3          5   \n",
       "\n",
       "   industry_enc  \n",
       "0             4  \n",
       "1             5  \n",
       "2             4  \n",
       "3             3  \n",
       "4             6  "
      ]
     },
     "execution_count": 34,
     "metadata": {},
     "output_type": "execute_result"
    }
   ],
   "source": [
    "X_train.head()"
   ]
  },
  {
   "cell_type": "code",
   "execution_count": null,
   "metadata": {},
   "outputs": [],
   "source": [
    "diagnostic_plots(dataframe.train, 'salary')"
   ]
  },
  {
   "cell_type": "code",
   "execution_count": 30,
   "metadata": {},
   "outputs": [
    {
     "data": {
      "image/png": "[encoded data removed]",
      "text/plain": [
       "<Figure size 1152x288 with 3 Axes>"
      ]
     },
     "metadata": {
      "needs_background": "light"
     },
     "output_type": "display_data"
    }
   ],
   "source": [
    "diagnostic_plots(dataframe.train, 'milesFromMetropolis')"
   ]
  },
  {
   "cell_type": "code",
   "execution_count": 33,
   "metadata": {},
   "outputs": [
    {
     "name": "stdout",
     "output_type": "stream",
     "text": [
      "correlated features:  4 {'industry_enc', 'major_enc', 'jobType_enc', 'degree_enc'}\n"
     ]
    }
   ],
   "source": [
    "corr_features = correlation(X_train, 0.8)\n",
    "print('correlated features: ', len(set(corr_features)),corr_features)"
   ]
  },
  {
   "cell_type": "code",
   "execution_count": null,
   "metadata": {},
   "outputs": [
    {
     "name": "stderr",
     "output_type": "stream",
     "text": [
      "[Parallel(n_jobs=1)]: Using backend SequentialBackend with 1 concurrent workers.\n",
      "[Parallel(n_jobs=1)]: Done   1 out of   1 | elapsed:  1.5min remaining:    0.0s\n"
     ]
    }
   ],
   "source": [
    "from sklearn.ensemble import RandomForestRegressor\n",
    "from mlxtend.feature_selection import SequentialFeatureSelector as SFS\n",
    "\n",
    "sfs1 = SFS(RandomForestRegressor(), \n",
    "           k_features=10, \n",
    "           forward=True, \n",
    "           floating=False, \n",
    "           verbose=2,\n",
    "           scoring='neg_mean_squared_error',\n",
    "           cv=5)\n",
    "\n",
    "sfs1 = sfs1.fit(np.array(X_train), y_train)"
   ]
  },
  {
   "cell_type": "code",
   "execution_count": null,
   "metadata": {},
   "outputs": [],
   "source": []
  }
 ],
 "metadata": {
  "kernelspec": {
   "display_name": "Python 3",
   "language": "python",
   "name": "python3"
  },
  "language_info": {
   "codemirror_mode": {
    "name": "ipython",
    "version": 3
   },
   "file_extension": ".py",
   "mimetype": "text/x-python",
   "name": "python",
   "nbconvert_exporter": "python",
   "pygments_lexer": "ipython3",
   "version": "3.8.2"
  }
 },
 "nbformat": 4,
 "nbformat_minor": 4
}
